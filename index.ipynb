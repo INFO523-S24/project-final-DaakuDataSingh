{
  "cells": [
    {
      "cell_type": "raw",
      "metadata": {},
      "source": [
        "---\n",
        "title: '''2023'' Live Cricket Match Winner Predictions'\n",
        "subtitle: INFO 523 - Project Final\n",
        "author:\n",
        "  - name: Christian Ortmann<br> Pappala Praveen Kumar<br> Poonkundran Srinivasan<br> Srinivasan Akash<br> Theeda Gowtham<br> Tiruthani Rajitha Reddy<br> Bhawari Tejas\n",
        "    affiliations:\n",
        "      - name: 'School of Information, University of Arizona'\n",
        "description: Using Prediction Model to predict Live ODI Cricket Match Winners\n",
        "format:\n",
        "  html:\n",
        "    code-tools: true\n",
        "    code-overflow: wrap\n",
        "    embed-resources: true\n",
        "editor: visual\n",
        "execute:\n",
        "  warning: false\n",
        "---"
      ],
      "id": "cebf6d4f"
    },
    {
      "cell_type": "markdown",
      "metadata": {},
      "source": [
        "## Abstract\n",
        "Our project predicts the match results by using historical ODI cricket data and state-of-the-art machine learning. It redefines cricket analysis by closely monitoring forecast accuracy and encouraging user engagement. The primary goal of our project is to use historical and current match data, train them under regression classification models, select the best model and then use it to predict the winner of a cricket match based on the live match statistics (e.g., runs scored, wickets fallen, overs bowled), that update at regular intervals. This model will be displayed on a webpage which will refresh every time a new stat is updated, and the prediction from the model will update.\n",
        "\n",
        "\n",
        "## Introduction\n",
        "For this project we wanted to showcase our prediction skill-set with the challenge of a live dataset, and what better live dataset to use than sports, so we went with our favorite sport - cricket. The past data will include information of ODI Matches from years 2002 to 2022, while the live data will consist of data from the year 2023. Each entry from 2023 will be read from the actual CSV file and entered into a database table with an interval of 10 to 20 seconds between two consecutive entries. These entries will be considered as live data and will be sent to the API caller.\n",
        "\n",
        "We’ll use two datasets:\n",
        "\n",
        "ODI_Match_Data.csv: Provides facts about the location and season of the cricket matches along with team information and the play results from each team member. We’ll need this one to investigate partnerships between batsmen. It’s dimensions are 155432 rows of data by 23 variable columns. The data that appears in this proposal is a truncated version for ease of storage, but the project will utilize an API that will supply the entire dataset.\n",
        "\n",
        "ODI_Match_info.csv: Overlaps in data with the above but provides information on the umpire, performance, and the city the match took place. We’ll need this one to analyze the batting and bowling performance of each player. It’s dimensions are 2380 rows of data by 18 variable columns.\n",
        "\n",
        "## Setup"
      ],
      "id": "dd809b03"
    },
    {
      "cell_type": "code",
      "metadata": {},
      "source": [
        "import pandas as pd\n",
        "import glob\n",
        "import seaborn as sns\n",
        "from sklearn.preprocessing import MinMaxScaler, LabelEncoder\n",
        "from sklearn.feature_selection import SelectKBest, f_classif\n",
        "from sklearn.model_selection import train_test_split as tts\n",
        "from sklearn.linear_model import LogisticRegression\n",
        "from sklearn.tree import DecisionTreeClassifier  \n",
        "from sklearn.ensemble import RandomForestClassifier\n",
        "from sklearn import metrics\n",
        "from sklearn.model_selection import cross_validate\n",
        "from sklearn.decomposition import PCA\n",
        "import matplotlib.pyplot as plt\n",
        "import pickle"
      ],
      "id": "0fa84959",
      "execution_count": null,
      "outputs": []
    },
    {
      "cell_type": "markdown",
      "metadata": {},
      "source": [
        "## EDA\n",
        "Here, we first carried out Data Preprocessing where we merged the match_data and match_info files, then carried out Exploratory Data Analysis by using pairplots to find correlations between different variables, if any.\n"
      ],
      "id": "54826f19"
    },
    {
      "cell_type": "code",
      "metadata": {},
      "source": [
        "info = pd.read_csv('data/ODI_Match_info.csv')\n",
        "info = info.rename(columns = {'id':'match_id'})\n",
        "\n",
        "#append all files together\n",
        "csv_files = ['data/output_1.csv','data/output_2.csv','data/output_3.csv','data/output_4.csv','data/output_5.csv','data/output_6.csv','data/output_7.csv','data/output_8.csv','data/output_9.csv']\n",
        "\n",
        "matchData = pd.concat([pd.read_csv(f,low_memory=False) for f in csv_files ], ignore_index=True)\n",
        "\n",
        "#merge frames on match ID column\n",
        "\n",
        "totalData = pd.merge(matchData, info, on = 'match_id') #merge by identical column 'match_id'\n",
        "totalData.drop(totalData.filter(regex='_y$').columns, axis=1, inplace=True) #drop duplicate columns\n",
        "\n",
        "totalData = totalData.rename(columns = {'season_x':'season', 'venue_x':'venue'})\n",
        "\n",
        "from02to22 = totalData[~totalData['season'].astype(str).str.startswith(('2023/2024','2023', '2022/23'))] #exclude 2023 data\n",
        "\n",
        "from02to22\n",
        "print(type(from02to22)) #confirm data is read in as a df\n",
        "print(from02to22.shape) #confirm data shape\n",
        "print(from02to22.dtypes) #understand the types of data in the df\n",
        "print(from02to22.isna().sum()) #count NA values in columns\n",
        "print(pd.DataFrame.describe(from02to22)) #descriptive function to look at dataframe)\n",
        "\n",
        "\n",
        "winners = sns.countplot(data = from02to22, y = 'winner', order=from02to22['winner'].value_counts().index)\n",
        "winners\n",
        "\n",
        "# corr = sns.pairplot(from02to22)\n",
        "# corr\n"
      ],
      "id": "a176e9b9",
      "execution_count": null,
      "outputs": []
    },
    {
      "cell_type": "markdown",
      "metadata": {},
      "source": [
        "## Data Cleaning\n",
        "Here, during a thorough process of Data Cleaning, we dropped some columns which were largely empty and replaced some empties with 'Unknown'."
      ],
      "id": "7eac36c1"
    },
    {
      "cell_type": "code",
      "metadata": {},
      "source": [
        "#drop columns that have more than 1Million NaNs\n",
        "\n",
        "colNaCounts = from02to22.isna().sum()\n",
        "\n",
        "\n",
        "columns_to_drop = colNaCounts[colNaCounts >= 1000000].index.tolist()\n",
        "\n",
        "# Drop identified columns from the DataFrame\n",
        "from02to22 = from02to22.drop(columns=columns_to_drop)\n",
        "\n",
        "\n",
        "#revalue new winner column\n",
        "\n",
        "from02to22['winnerTeam'] = from02to22.apply(lambda row: 'team1' if row['winner'] == row['team1'] else 'team2', axis=1)\n",
        "\n",
        "\n",
        "\n",
        "\n",
        "\n",
        "\n",
        "#convert Nan cities to 'Unknown'\n",
        "#drop winner NA columns\n",
        "#convert NA player of match to 'unknown'\n",
        "#convert NA umpire 3 to 'unknown'\n",
        "\n",
        "from02to22['city'] = from02to22['city'].fillna('Unknown') \n",
        "from02to22['player_of_match'] = from02to22['player_of_match'].fillna('Unknown') \n",
        "from02to22['umpire3'] = from02to22['umpire3'].fillna('Unknown') \n",
        "from02to22 = from02to22.dropna(subset=['winner'])\n",
        "from02to22 = from02to22.drop(columns = ['match_id', 'start_date', 'date', 'winner', 'cricsheet_id', 'season', 'venue', 'city', 'player_of_match', 'win_by_runs', 'win_by_wickets', 'umpire1', 'umpire2', 'umpire3', 'result']) #is date specific data really useful? also drop continuous match identifiers. We want the match stats\n",
        "# corr = sns.pairplot(from02to22)\n",
        "# corr"
      ],
      "id": "dfd2614f",
      "execution_count": null,
      "outputs": []
    },
    {
      "cell_type": "markdown",
      "metadata": {},
      "source": [
        "## Feature Engineering\n",
        "The next step is the Feature Engineering where we:\n",
        " - Normalized the continuous data\n",
        " - Encoded categorical variables"
      ],
      "id": "8a74b719"
    },
    {
      "cell_type": "code",
      "metadata": {},
      "source": [
        "#normalize continuous data because we dont have a normal distribution\n",
        "\n",
        "to_norm = (from02to22.select_dtypes(include =['int64', 'float64'])) #select continuous variables\n",
        "\n",
        "continuous = MinMaxScaler().fit_transform(to_norm) #fit and transform min max scaler (normalizes)\n",
        "continuous = pd.DataFrame(continuous, index = from02to22.index, columns = list(to_norm))\n",
        "\n",
        "#encode categorical variables\n",
        "\n",
        "to_encode = (from02to22.select_dtypes(include =['object'])) #test if anything is an object or category variable\n",
        "\n",
        "label_encoders = [] #make new encoder for each column\n",
        "encoded_data = pd.DataFrame()\n",
        "\n",
        "encoding_dicts = {}\n",
        "\n",
        "# Iterate over each column in 'to_encode' and encode using a separate LabelEncoder\n",
        "for col in to_encode:\n",
        "    # Create a new instance of LabelEncoder for the current column\n",
        "    encoder = LabelEncoder()\n",
        "    \n",
        "    # Fit and transform the data in 'from02to22[col]'\n",
        "    encoded_data[col] = encoder.fit_transform(from02to22[col])\n",
        "    \n",
        "    # Store the encoder in the list\n",
        "    label_encoders.append(encoder)\n",
        "\n",
        "    encoding_dicts[col] = dict(zip(encoder.classes_, encoder.transform(encoder.classes_)))\n",
        "\n",
        "\n",
        "#patch the columns back together\n",
        "\n",
        "data = pd.concat([encoded_data.reset_index(drop=True), continuous.reset_index(drop=True)], axis = 1) #reset indices to avoid errors in concat\n"
      ],
      "id": "f0f34679",
      "execution_count": null,
      "outputs": []
    },
    {
      "cell_type": "markdown",
      "metadata": {},
      "source": [
        "## Feature Selection\n",
        "As we have eliminated the unnecessary columns from data previously through data preprocessing and cleaning, now we directly select the top 10 columns except winnerTeam as the input features of the model and the winnerTeam itself as the target feature. "
      ],
      "id": "5a5bf1b9"
    },
    {
      "cell_type": "code",
      "metadata": {},
      "source": [
        "X = data.drop('winnerTeam', axis = 1) #input\n",
        "y = data['winnerTeam'] #target\n",
        "\n",
        "selector = SelectKBest(score_func= f_classif, k = 10)\n",
        "top10 = selector.fit_transform(X,y) #create variable that is the top 10 best feautures\n",
        "cols_idxs = selector.get_support(indices=True) #grab indices from feature cols, get_support is from **sklearn**\n",
        "top10 = X.iloc[:,cols_idxs] #add columns from whole dataset to the selected columns dataset https://stackoverflow.com/questions/39839112/the-easiest-way-for-getting-feature-names-after-running-selectkbest-in-scikit-le\n",
        "print(top10)"
      ],
      "id": "6df92403",
      "execution_count": null,
      "outputs": []
    },
    {
      "cell_type": "markdown",
      "metadata": {},
      "source": [
        "## Model Training (Logistic Regression)\n",
        "The input features and target feature are now broken down into training and testing groups and are put under our first regression model - Logistic regression."
      ],
      "id": "ec58112c"
    },
    {
      "cell_type": "code",
      "metadata": {},
      "source": [
        "#split data into training and testing\n",
        "X_train, X_test, y_train, y_test = tts(top10, y, test_size = 0.2) #break into 4 groups for testing and training, make the training dataset 70% of the data and the testing dataset 30% https://builtin.com/data-science/train-test-split\n",
        "#PCA\n",
        "# pca = PCA(n_components = 5) #go from 10 components to 5 components\n",
        "# X_train_pca = pca.fit_transform(X_train)\n",
        "# X_test_pca = pca.transform(X_test)\n",
        "\n",
        "# X_train = X_train_pca\n",
        "# X_test = X_test_pca\n",
        "\n",
        "#training and testing models\n",
        "\n",
        " #decision tree\n",
        "# lr = LogisticRegression()\n",
        "\n",
        "# lr.fit(X_train, \n",
        "#           y_train)\n",
        "# predictLR = lr.predict(X_test)\n",
        "# outcomeLR = pd.DataFrame ({'Actual': y_test, 'Predicted': predictLR})\n",
        "# outcomeLR['Actual'] = label_encoders[9].inverse_transform(outcomeLR['Actual'])\n",
        "# outcomeLR['Predicted'] = label_encoders[9].inverse_transform(outcomeLR['Predicted'])\n",
        "\n",
        "# key = (label_encoders[9].classes_)\n"
      ],
      "id": "735d568f",
      "execution_count": null,
      "outputs": []
    },
    {
      "cell_type": "markdown",
      "metadata": {},
      "source": [
        "## Model Validation\n",
        "The results of Logistic regression are now cross validated and their performance metrics are displayed. As we observe the accuracy and precision of this model is around 55% and the area under ROC curve is also around 0.5. As these metrics show that this might not be the best model, we move forward and train another model."
      ],
      "id": "ad7bb819"
    },
    {
      "cell_type": "code",
      "metadata": {},
      "source": [
        "#Evaluating models\n",
        "#logistic regression\n",
        "cvLR = cross_validate(lr,X_train, y_train)\n",
        "print(\"cross validation of logistic regression\", cvLR)\n",
        "print(\"accuracy of logistic regression:\", metrics.accuracy_score(y_test, predictLR)) #testing how accuracy of the models\n",
        "print(\"precision of logistic regression:\", metrics.precision_score(y_test, predictLR, average = 'weighted'))\n",
        "print(\"recall of logistic regression:\", metrics.recall_score(y_test, predictLR, average = 'weighted'))\n",
        "print(\"f1 of logistic regression:\", metrics.f1_score(y_test, predictLR, average = 'weighted'))\n",
        "print(\"ROCAUC macro of logistic regression:\", metrics.roc_auc_score(y_test, predictLR))\n",
        "print(\"ROCAUC micro of logistic regression:\", metrics.roc_auc_score(y_test, predictLR, average = 'micro'))\n",
        "\n",
        "\n",
        "y_pred_proba = lr.predict_proba(X_test)[::,1] #https://www.statology.org/plot-roc-curve-python/\n",
        "fpr, tpr, _ = metrics.roc_curve(y_test,  y_pred_proba)\n",
        "plt.plot(fpr,tpr)\n",
        "plt.ylabel('True Positive Rate')\n",
        "plt.xlabel('False Positive Rate')\n",
        "plt.title('ROC Curve Logistic Regression')\n",
        "plt.show()\n",
        "\n",
        "print('')\n"
      ],
      "id": "246bb45b",
      "execution_count": null,
      "outputs": []
    },
    {
      "cell_type": "markdown",
      "metadata": {},
      "source": [
        "### Random Forest Classifier\n",
        "Now we take the Random Forest  Classifier, cross validate its results and display its performance metrics. As we observe the accuracy and precision of this model is around 96% and the area under ROC curve is also around 0.96. These metrics clearly show that this is the best model, so we move forward with this model."
      ],
      "id": "aa9e54e7"
    },
    {
      "cell_type": "code",
      "metadata": {},
      "source": [
        "#random forest\n",
        "rfc = RandomForestClassifier(criterion='gini')\n",
        "rfc.fit(X_train, \n",
        "          y_train)\n",
        "predictRFC = rfc.predict(X_test)\n",
        "outcomeRFC = pd.DataFrame ({'Actual': y_test, 'Predicted': predictRFC})\n",
        "outcomeRFC['Actual'] = label_encoders[9].inverse_transform(outcomeRFC['Actual'])\n",
        "outcomeRFC['Predicted'] = label_encoders[9].inverse_transform(outcomeRFC['Predicted'])\n",
        "\n",
        "#Evaluating models\n",
        "#random forest\n",
        "cvRF = cross_validate(rfc,X_train, y_train)\n",
        "print(\"cross validation of random forest\", cvRF)\n",
        "print(\"accuracy of random forest:\", metrics.accuracy_score(y_test, predictRFC)) #testing how accuracy of the models\n",
        "print(\"precision of random forest:\", metrics.precision_score(y_test, predictRFC, average = 'weighted'))\n",
        "print(\"recall of random forest:\", metrics.recall_score(y_test, predictRFC, average = 'weighted'))\n",
        "print(\"f1 of random forest:\", metrics.f1_score(y_test, predictRFC, average = 'weighted'))\n",
        "print(\"ROCAUC macro of random forest:\", metrics.roc_auc_score(y_test, predictRFC))\n",
        "print(\"ROCAUC micro of random forest:\", metrics.roc_auc_score(y_test, predictRFC, average = 'micro'))\n",
        "\n",
        "\n",
        "y_pred_proba = rfc.predict_proba(X_test)[::,1]\n",
        "fpr, tpr, _ = metrics.roc_curve(y_test,  y_pred_proba)\n",
        "plt.plot(fpr,tpr)\n",
        "plt.ylabel('True Positive Rate')\n",
        "plt.xlabel('False Positive Rate')\n",
        "plt.title('ROC Curve Random Forest')\n",
        "plt.show()\n",
        "\n",
        "#FOR LOCAL USE\n",
        "# Step 2: Save the trained model to a pickle file\n",
        "# with open(\"/Users/cortmann/Desktop/523 - Data Mining/localCricketPredictions/cricketPrediction.pkl\", \"wb\") as f:\n",
        "#     pickle.dump(rfc, f)"
      ],
      "id": "8c92aa11",
      "execution_count": null,
      "outputs": []
    },
    {
      "cell_type": "markdown",
      "metadata": {},
      "source": [
        "## Feed 2023 Data\n",
        "Now we feed the live data (which is the 2023 match data), through back end API, at regular intervals, thereby changing the stats everytime. And each time a statistic is updated, the prediction updates as well."
      ],
      "id": "ad7ffe62"
    },
    {
      "cell_type": "code",
      "metadata": {},
      "source": [
        "# Step 2: Save the trained model to a pickle file\n",
        "# with open(\"data/cricketPrediction.pkl\", \"wb\") as f:\n",
        "#     pickle.dump(rfc, f)\n",
        "    \n",
        "\n",
        "\n",
        "# Step 3: Load the model from the pickle file\n",
        "\n",
        "# with open(\"linear_regression_model.pkl\", \"rb\") as f:\n",
        "#     loaded_model = pickle.load(f)\n"
      ],
      "id": "73395020",
      "execution_count": null,
      "outputs": []
    },
    {
      "cell_type": "markdown",
      "metadata": {},
      "source": [
        "## Model Implementation\n",
        "Finally, we display the model predictionm on a webpage and take you through our journey of prediction!\n"
      ],
      "id": "ba29e6f1"
    },
    {
      "cell_type": "code",
      "metadata": {},
      "source": [
        "import requests\n",
        "\n",
        "url = \"https://goto-brought-auction-deck.trycloudflare.com/analyzingtrends/getmatchbyid/1\"  \n",
        "response = requests.get(url)\n",
        "\n",
        "if response.status_code == 200:  # Check if the request was successful\n",
        "    json_data = response.json()  # Convert response to JSON format\n",
        "    print(json_data['season'])  # Print the JSON data\n",
        "else:\n",
        "    print(\"Failed to retrieve data from the API.\")"
      ],
      "id": "9b076f50",
      "execution_count": null,
      "outputs": []
    },
    {
      "cell_type": "code",
      "metadata": {},
      "source": [
        "loaded_model = None\n",
        "\n",
        "# Load the model from the pickle file\n",
        "with open(\"/Users/cortmann/Desktop/523 - Data Mining/localCricketPredictions/cricketPrediction.pkl\", \"rb\") as f:\n",
        "    loaded_model = pickle.load(f)\n",
        "    \n",
        "predictRFC = loaded_model.predict(X_test)\n",
        "\n",
        "outcomeRFC = pd.DataFrame ({'Actual': y_test, 'Predicted': predictRFC})\n",
        "outcomeRFC['Actual'] = label_encoders[9].inverse_transform(outcomeRFC['Actual'])\n",
        "outcomeRFC['Predicted'] = label_encoders[9].inverse_transform(outcomeRFC['Predicted'])\n",
        "    \n",
        "\n",
        "\n",
        "# cvRF = cross_validate(loaded_model,X_train, y_train)\n",
        "# print(\"cross validation of random forest\", cvRF)\n",
        "# print(\"accuracy of random forest:\", metrics.accuracy_score(y_test, predictRFC)) #testing how accuracy of the models\n",
        "# print(\"precision of random forest:\", metrics.precision_score(y_test, predictRFC, average = 'weighted'))\n",
        "# print(\"recall of random forest:\", metrics.recall_score(y_test, predictRFC, average = 'weighted'))\n",
        "# print(\"f1 of random forest:\", metrics.f1_score(y_test, predictRFC, average = 'weighted'))\n",
        "# print(\"ROCAUC macro of random forest:\", metrics.roc_auc_score(y_test, predictRFC))\n",
        "# print(\"ROCAUC micro of random forest:\", metrics.roc_auc_score(y_test, predictRFC, average = 'micro'))\n",
        "\n",
        "\n",
        "# y_pred_proba = loaded_model.predict_proba(X_test)[::,1]\n",
        "# fpr, tpr, _ = metrics.roc_curve(y_test,  y_pred_proba)\n",
        "# plt.plot(fpr,tpr)\n",
        "# plt.ylabel('True Positive Rate')\n",
        "# plt.xlabel('False Positive Rate')\n",
        "# plt.title('ROC Curve Random Forest')\n",
        "# plt.show()\n"
      ],
      "id": "9b4d5a13",
      "execution_count": null,
      "outputs": []
    }
  ],
  "metadata": {
    "kernelspec": {
      "name": "python3",
      "language": "python",
      "display_name": "Python 3 (ipykernel)"
    }
  },
  "nbformat": 4,
  "nbformat_minor": 5
}